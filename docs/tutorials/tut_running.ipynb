{
 "cells": [
  {
   "cell_type": "markdown",
   "metadata": {},
   "source": [
    "# T3 - Running scenarios\n",
    "\n",
    "While running individual sims can be interesting for simple explorations, at some point it will almost always be necessary to run a large number of simulations simultaneously -- to explore different scenarios, to perform calibration, or simply to get uncertainty bounds on a single projection. This tutorial explains how to do that."
   ]
  },
  {
   "cell_type": "markdown",
   "metadata": {},
   "source": [
    "<div class=\"alert alert-info\">\n",
    "    \n",
    "Click [here](https://mybinder.org/v2/gh/institutefordiseasemodeling/hpvsim/HEAD?urlpath=lab%2Ftree%2Fdocs%2Ftutorials%2Ftut_running.ipynb) to open an interactive version of this notebook.\n",
    "    \n",
    "</div>"
   ]
  },
  {
   "cell_type": "markdown",
   "metadata": {},
   "source": [
    "## Running with MultiSims\n",
    "\n",
    "The most common way to run multiple simulations is with the *MultiSim* object. As the name suggests, this is a relatively simple container for a number of sims. However, it contains powerful methods for plotting, statistics, and running all the sims in parallel.\n",
    "\n",
    "### Running one sim with uncertainty\n",
    "\n",
    "Making and running a multisim based on a single sim is pretty easy:"
   ]
  },
  {
   "cell_type": "code",
   "execution_count": null,
   "metadata": {},
   "outputs": [],
   "source": [
    "import hpvsim as hpv\n",
    "hpv.options(jupyter=True, verbose=0)\n",
    "\n",
    "sim = hpv.Sim()\n",
    "msim = hpv.MultiSim(sim)\n",
    "msim.run(n_runs=5)\n",
    "msim.plot();"
   ]
  },
  {
   "cell_type": "markdown",
   "metadata": {},
   "source": [
    "If you run a multisim with a single sim input as above, it will change the random seed for each sim, which is what leads to the variability you see.\n",
    "\n",
    "By default, the multisim simply plots each simulation. These simulations are stored in the `sims` attribute, which is just a simple list of sims:"
   ]
  },
  {
   "cell_type": "code",
   "execution_count": null,
   "metadata": {},
   "outputs": [],
   "source": [
    "for sim in msim.sims:\n",
    "    sim.brief()"
   ]
  },
  {
   "cell_type": "markdown",
   "metadata": {},
   "source": [
    "However, often (especially when you run the same parameters with different random seeds), you don't care about the individual sims, you want to see the *statistics* for the sims. You can calculate either the mean or the median of the results across all the sims as follows:"
   ]
  },
  {
   "cell_type": "code",
   "execution_count": null,
   "metadata": {},
   "outputs": [],
   "source": [
    "msim.mean()\n",
    "msim.plot('total_infections');"
   ]
  },
  {
   "cell_type": "code",
   "execution_count": null,
   "metadata": {},
   "outputs": [],
   "source": [
    "msim.median()\n",
    "msim.plot('total_infections');"
   ]
  },
  {
   "cell_type": "markdown",
   "metadata": {},
   "source": [
    "You can see these are similar, but slightly different. You can also treat each of the individual sims as part of a larger single sim, and \"combine\" the results into one sim:"
   ]
  },
  {
   "cell_type": "code",
   "execution_count": null,
   "metadata": {},
   "outputs": [],
   "source": [
    "msim.combine()\n",
    "msim.plot('total_infections');"
   ]
  },
  {
   "cell_type": "markdown",
   "metadata": {},
   "source": [
    "Note how now there is no uncertainty and the total number of infections is 5x higher than in the previous plots, since we just added 5 different sims together.\n",
    "\n",
    "Each of these operations modifies the `msim.base_sim` object, and does not affect the actual list of stored sims, which is why you can go back and forth between them.\n",
    "\n",
    "### Running different sims\n",
    "\n",
    "Often you don't want to run the same sim with different seeds, but instead want to run a set of different sims. That's also very easy -- for example, here's how you would do a sweep across the relative transmissibility of people with high-grade (CIN3) lesions:"
   ]
  },
  {
   "cell_type": "code",
   "execution_count": null,
   "metadata": {},
   "outputs": [],
   "source": [
    "import numpy as np\n",
    "\n",
    "rel_trans_cin3_vals = np.linspace(0.5, 1.5, 5) # Sweep from 0.5 to 1.5 with 5 values\n",
    "sims = []\n",
    "for rel_trans_cin3 in rel_trans_cin3_vals:\n",
    "    sim = hpv.Sim(rel_trans_cin3=rel_trans_cin3, label=f'Rel trans CIN3 = {rel_trans_cin3}')\n",
    "    sims.append(sim)\n",
    "msim = hpv.MultiSim(sims)\n",
    "msim.run()\n",
    "msim.plot('total_infections');"
   ]
  },
  {
   "cell_type": "markdown",
   "metadata": {},
   "source": [
    "As you would expect, the more transmissible people with CIN3s are, the more infections we get.\n",
    "\n",
    "Finally, note that you can use multisims to do very compact scenario explorations -- here we are using the command `hpv.parallel()`, which is an alias for `hpv.MultiSim().run()`:"
   ]
  },
  {
   "cell_type": "code",
   "execution_count": null,
   "metadata": {},
   "outputs": [],
   "source": [
    "def custom_vx(sim):\n",
    "    if sim.yearvec[sim.t] == 2000:\n",
    "        target_group = (sim.people.age>9) * (sim.people.age<14)\n",
    "        sim.people.peak_imm[0, target_group] = 1\n",
    "\n",
    "pars = dict(\n",
    "    location = 'tanzania', # Use population characteristics for Japan\n",
    "    n_agents = 10e3, # Have 50,000 people total in the population\n",
    "    start = 1980, # Start the simulation in 1980\n",
    "    n_years = 50, # Run the simulation for 50 years\n",
    "    burnin = 10, # Discard the first 20 years as burnin period\n",
    "    verbose = 0, # Do not print any output\n",
    ")\n",
    "\n",
    "# Running with multisims -- see Tutorial 3\n",
    "s1 = hpv.Sim(pars, label='Default')\n",
    "s2 = hpv.Sim(pars, interventions=custom_vx, label='Custom vaccination')\n",
    "hpv.parallel(s1, s2).plot(['total_hpv_incidence', 'total_cin_incidence']);"
   ]
  },
  {
   "cell_type": "markdown",
   "metadata": {},
   "source": [
    "<div class=\"alert alert-warning\">\n",
    "\n",
    "**Warning:** Because `multiprocess` pickles the sims when running them, `sims[0]` (before being run by the multisim) and `msim.sims[0]` are **not** the same object. After calling `msim.run()`, always use sims from the multisim object, not from before. In contrast, if you *don't* run the multisim (e.g. if you make a multisim from already-run sims), then `sims[0]` and `msim.sims[0]` are indeed exactly the same object.\n",
    "\n",
    "</div>"
   ]
  },
  {
   "cell_type": "markdown",
   "metadata": {},
   "source": [
    "### Advanced usage\n",
    "\n",
    "Finally, you can also merge or split different multisims together. Here's an example that's similar to before, except it shows how to run a multisim of different seeds for the same rel_trans_cin3 value, but then merge multisims for different rel_trans_cin3 values together into one multisim:"
   ]
  },
  {
   "cell_type": "code",
   "execution_count": null,
   "metadata": {},
   "outputs": [],
   "source": [
    "n_sims = 3\n",
    "rel_trans_cin3_vals = [0.5, 1.0, 1.5]\n",
    "\n",
    "msims = []\n",
    "for rel_trans_cin3 in rel_trans_cin3_vals:\n",
    "    sims = []\n",
    "    for s in range(n_sims):\n",
    "        sim = hpv.Sim(n_agents=10e3, rel_trans_cin3=rel_trans_cin3, rand_seed=s, label=f'Rel trans CIN3 = {rel_trans_cin3}')\n",
    "        sims.append(sim)\n",
    "    msim = hpv.MultiSim(sims)\n",
    "    msim.run()\n",
    "    msim.mean()\n",
    "    msims.append(msim)\n",
    "\n",
    "merged = hpv.MultiSim.merge(msims, base=True)\n",
    "merged.plot(color_by_sim=True);"
   ]
  },
  {
   "cell_type": "markdown",
   "metadata": {},
   "source": [
    "As you can see, running this way lets you run not just different values, but run different values with uncertainty. Which brings us to..."
   ]
  },
  {
   "cell_type": "markdown",
   "metadata": {},
   "source": [
    "## Running with Scenarios\n",
    "\n",
    "Most of the time, you'll want to run with multisims since they give you the most flexibility. However, in certain cases, Scenario objects let you achieve the same thing more simply. Unlike MultiSims, which are completely agnostic about what sims you include, scenarios always start from the same base sim. They then modify the parameters as you specify, and finally add uncertainty if desired. For example, this shows how you'd use scenarios to run the example similar to the one above."
   ]
  },
  {
   "cell_type": "code",
   "execution_count": null,
   "metadata": {},
   "outputs": [],
   "source": [
    "# Set base parameters -- these will be shared across all scenarios\n",
    "basepars = {'n_agents':10e3} \n",
    "\n",
    "# Configure the settings for each scenario\n",
    "scenarios = {'baseline': {\n",
    "              'name':'Baseline',\n",
    "              'pars': {}\n",
    "              },\n",
    "            'high_rel_trans_cin3': {\n",
    "              'name':'High rel trans CIN3 (1.5)',\n",
    "              'pars': {\n",
    "                  'rel_trans_cin3': 1.5,\n",
    "                  }\n",
    "              },\n",
    "            'low_rel_trans_cin3': {\n",
    "              'name':'Low rel trans CIN3 (0.5)',\n",
    "              'pars': {\n",
    "                  'rel_trans_cin3': 0.5,\n",
    "                  }\n",
    "              },\n",
    "             }\n",
    "\n",
    "# Run and plot the scenarios\n",
    "scens = hpv.Scenarios(basepars=basepars, scenarios=scenarios)\n",
    "scens.run()\n",
    "scens.plot();"
   ]
  }
 ],
 "metadata": {
  "kernelspec": {
   "display_name": "Python 3 (ipykernel)",
   "language": "python",
   "name": "python3"
  },
  "language_info": {
   "codemirror_mode": {
    "name": "ipython",
    "version": 3
   },
   "file_extension": ".py",
   "mimetype": "text/x-python",
   "name": "python",
   "nbconvert_exporter": "python",
   "pygments_lexer": "ipython3",
   "version": "3.9.13"
  },
  "toc": {
   "base_numbering": 1,
   "nav_menu": {},
   "number_sections": true,
   "sideBar": true,
   "skip_h1_title": false,
   "title_cell": "Table of Contents",
   "title_sidebar": "Contents",
   "toc_cell": false,
   "toc_position": {},
   "toc_section_display": true,
   "toc_window_display": false
  }
 },
 "nbformat": 4,
 "nbformat_minor": 4
}
